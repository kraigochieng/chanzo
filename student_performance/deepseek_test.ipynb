{
 "cells": [
  {
   "cell_type": "code",
   "execution_count": 3,
   "metadata": {},
   "outputs": [
    {
     "name": "stdout",
     "output_type": "stream",
     "text": [
      "Great question! There are a few reasons why I might seem slower compared to the GPT API:\n",
      "\n",
      "1. **Different Infrastructure** – The GPT API is optimized for fast, scalable responses, often running on high-performance servers with dedicated resources. My infrastructure may vary depending on deployment.\n",
      "\n",
      "2. **Prioritization** – Free or lower-tier access (like mine) may have rate limits or fewer computational resources allocated compared to paid API users.\n",
      "\n",
      "3. **Latency & Network Factors** – If I'm running on a server farther from your location, network delays can add to response time.\n",
      "\n",
      "4. **Additional Processing** – Some AI models (including mine) may perform extra safety checks, moderation, or context management, which can add slight delays.\n",
      "\n",
      "That said, I strive to be as fast as possible! If you're noticing consistent slowness, let me know—sometimes optimizations can be made. Would you like help with something time-sensitive?\n"
     ]
    }
   ],
   "source": [
    "from openai import OpenAI\n",
    "from dotenv import load_dotenv\n",
    "import os\n",
    "\n",
    "load_dotenv()\n",
    "\n",
    "DEEPSEEK_API_KEY = os.getenv(\"DEEPSEEK_API_KEY\")\n",
    "DEEPSEEK_URL = \"https://api.deepseek.com\"\n",
    "DEEPSEEK_MODEL = \"deepseek-chat\"\n",
    "\n",
    "client = OpenAI(api_key=DEEPSEEK_API_KEY, base_url=DEEPSEEK_URL)\n",
    "\n",
    "response = client.chat.completions.create(\n",
    "    model=\"deepseek-chat\",\n",
    "    messages=[\n",
    "        {\"role\": \"system\", \"content\": \"You are a helpful assistant\"},\n",
    "        {\"role\": \"user\", \"content\": \"Hello. Why are you slow compared to GPT API?\"},\n",
    "    ],\n",
    "    stream=False,\n",
    ")\n",
    "\n",
    "print(response.choices[0].message.content)"
   ]
  }
 ],
 "metadata": {
  "kernelspec": {
   "display_name": "data_science",
   "language": "python",
   "name": "python3"
  },
  "language_info": {
   "codemirror_mode": {
    "name": "ipython",
    "version": 3
   },
   "file_extension": ".py",
   "mimetype": "text/x-python",
   "name": "python",
   "nbconvert_exporter": "python",
   "pygments_lexer": "ipython3",
   "version": "3.10.16"
  }
 },
 "nbformat": 4,
 "nbformat_minor": 2
}
