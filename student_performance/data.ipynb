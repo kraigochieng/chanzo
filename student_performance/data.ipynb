{
 "cells": [
  {
   "cell_type": "code",
   "execution_count": 9,
   "metadata": {},
   "outputs": [],
   "source": [
    "import pandas as pd\n",
    "import random\n",
    "from faker import Faker\n",
    "import numpy as np"
   ]
  },
  {
   "cell_type": "code",
   "execution_count": null,
   "metadata": {},
   "outputs": [],
   "source": [
    "# Define possible values for each column\n",
    "grades = [\"A\", \"B\", \"C\", \"D\", \"E\"]\n",
    "subjects = [\"English\", \"Spanish\", \"Math\", \"Physics\", \"Geography\", \"History\"]\n",
    "categories = {\n",
    "    \"English\": \"Languages\",\n",
    "    \"Spanish\": \"Languages\",\n",
    "    \"Math\": \"Sciences\",\n",
    "    \"Physics\": \"Sciences\",\n",
    "    \"Geography\": \"Humanities\",\n",
    "    \"History\": \"Humanities\",\n",
    "}\n",
    "\n",
    "terms = [1, 2, 3]\n"
   ]
  },
  {
   "cell_type": "code",
   "execution_count": 11,
   "metadata": {},
   "outputs": [],
   "source": [
    "# Generate dataset\n",
    "fake = Faker()\n",
    "\n",
    "unique_names = [fake.first_name() for _ in range(1000)]\n",
    "\n",
    "# Define the number of students and grades per subject\n",
    "num_students = 3\n",
    "number_of_years = 2\n",
    "\n",
    "# Generate unique student names\n",
    "unique_names = [fake.first_name() for _ in range(num_students)]\n",
    "\n",
    "# Create dataset\n",
    "data = []\n",
    "for student in unique_names:\n",
    "    for subject in subjects:\n",
    "        category = categories[subject]\n",
    "        for _ in range(number_of_years):\n",
    "            for term in terms:\n",
    "                # weights = np.random.dirichlet(np.ones(5), size=1)[0]\n",
    "                # Generate 5 random numbers from a normal distribution\n",
    "                random_values = np.random.normal(\n",
    "                    loc=0.5, scale=0.2, size=len(grades)\n",
    "                )  # Mean = 0.5, Std Dev = 0.2\n",
    "\n",
    "                # Ensure all values are positive (by taking absolute values or setting a minimum)\n",
    "                random_values = np.abs(random_values)\n",
    "\n",
    "                # Normalize to make the sum equal to 1\n",
    "                normalized_values = random_values / np.sum(random_values)\n",
    "\n",
    "                # Convert to a normal Python list\n",
    "                weights = normalized_values.tolist()\n",
    "\n",
    "                random_number = random.randint(0, len(grades) - 1)\n",
    "\n",
    "                grade = random.choices(\n",
    "                    population=grades, weights=weights, k=len(grades)\n",
    "                )[random_number]\n",
    "\n",
    "                data.append([student, subject, category, term, grade])\n",
    "\n",
    "\n",
    "df = pd.DataFrame(\n",
    "    data, columns=[\"Student Name\", \"Subject\", \"Subject Category\", \"Term\", \"Grade\"]\n",
    ")"
   ]
  },
  {
   "cell_type": "code",
   "execution_count": 12,
   "metadata": {},
   "outputs": [],
   "source": [
    "df.to_csv(\"data.csv\", index=False)"
   ]
  }
 ],
 "metadata": {
  "kernelspec": {
   "display_name": "data_science",
   "language": "python",
   "name": "python3"
  },
  "language_info": {
   "codemirror_mode": {
    "name": "ipython",
    "version": 3
   },
   "file_extension": ".py",
   "mimetype": "text/x-python",
   "name": "python",
   "nbconvert_exporter": "python",
   "pygments_lexer": "ipython3",
   "version": "3.10.14"
  }
 },
 "nbformat": 4,
 "nbformat_minor": 2
}
